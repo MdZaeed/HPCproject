{
 "cells": [
  {
   "cell_type": "code",
   "execution_count": 1,
   "metadata": {},
   "outputs": [],
   "source": [
    "import pandas as pd\n",
    "from os import listdir\n",
    "from os.path import isfile, join"
   ]
  },
  {
   "cell_type": "code",
   "execution_count": 2,
   "metadata": {},
   "outputs": [],
   "source": [
    "rootfolder = \"HPC-ODA_Dataset_Collection/\"\n",
    "folderName = \"anomaly_injection/\""
   ]
  },
  {
   "cell_type": "code",
   "execution_count": 6,
   "metadata": {},
   "outputs": [],
   "source": [
    "def joinFilesOfAFolder(df,folderPath=\"\"):\n",
    "    df = pd.read_csv(folderPath + \"\\\\\" + filename)\n",
    "    df.rename(columns={\"Value\":filename},inplace=True)\n",
    "    df = pd.merge(left=df,right=df,left_on=\"Time\",right_on=\"Time\")\n",
    "    return df"
   ]
  },
  {
   "cell_type": "code",
   "execution_count": 4,
   "metadata": {},
   "outputs": [],
   "source": [
    "df = pd.read_csv(rootfolder + folderName + \"responses/responses.csv\")\n",
    "df.rename(columns={\"Value\":\"responses\"}, inplace=True)\n",
    "# df.head()\n",
    "df_2 = pd.read_csv(rootfolder + folderName + \"responses/responses_applications.csv\")\n",
    "df_2.rename(columns={\"Value\":\"responses_applications\"},inplace=True)\n",
    "# # df.tail()\n",
    "# df_2.reset_index()\n",
    "joined = pd.merge(left=df,right=df_2,left_on='Time',right_on='Time')\n",
    "# joined.drop(columns=['Time'],inplace=True)\n",
    "# joined.tail()\n",
    "row, col = joined.shape\n",
    "divisionFactor = 100\n",
    "stride = int(row/divisionFactor)\n",
    "splitedDataframe = []\n",
    "for i in range(100):\n",
    "    startIndex = (stride * i) + 1\n",
    "    endIndex = (stride + 1) * i\n",
    "    splitedDataframe.append(joined.iloc[startIndex:endIndex,:])"
   ]
  },
  {
   "cell_type": "code",
   "execution_count": 7,
   "metadata": {},
   "outputs": [],
   "source": [
    "folderPath = rootfolder + folderName + \"sensors\"\n",
    "onlyfiles = [f for f in listdir(folderPath) if isfile(join(folderPath, f))]\n",
    "\n",
    "joinedDataFrames = []\n",
    "for df in splitedDataframe:\n",
    "    for filename in onlyfiles:\n",
    "        joinedDataFrames.append(joinFilesOfAFolder(df=df,folderPath=folderPath))\n",
    "    \n",
    "# joined1.tail()"
   ]
  },
  {
   "cell_type": "code",
   "execution_count": null,
   "metadata": {},
   "outputs": [],
   "source": [
    "aggregatedDf = joinedDataFrames[0]\n",
    "for i in range(1,len(joinedDataFrames)):\n",
    "    aggregatedDf.append(joinedDataFrames[i])"
   ]
  },
  {
   "cell_type": "code",
   "execution_count": null,
   "metadata": {},
   "outputs": [],
   "source": [
    "aggregatedDf.to_csv('anomaly_injection.csv')"
   ]
  }
 ],
 "metadata": {
  "interpreter": {
   "hash": "5136b3441c1aae334fcabb9e2b984104b6558a7c9b7814e0882a0d0a0c44c5aa"
  },
  "kernelspec": {
   "display_name": "Python 3.9.10 64-bit (windows store)",
   "language": "python",
   "name": "python3"
  },
  "language_info": {
   "codemirror_mode": {
    "name": "ipython",
    "version": 3
   },
   "file_extension": ".py",
   "mimetype": "text/x-python",
   "name": "python",
   "nbconvert_exporter": "python",
   "pygments_lexer": "ipython3",
   "version": "3.9.10"
  },
  "orig_nbformat": 4
 },
 "nbformat": 4,
 "nbformat_minor": 2
}
