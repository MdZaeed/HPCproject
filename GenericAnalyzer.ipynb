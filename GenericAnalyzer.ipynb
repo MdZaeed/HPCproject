{
 "cells": [
  {
   "cell_type": "code",
   "execution_count": null,
   "metadata": {},
   "outputs": [],
   "source": [
    "import pandas as pd\n",
    "from os import listdir\n",
    "from os.path import isfile, join\n",
    "import plotly.express as px\n",
    "import plotly.io as pio\n",
    "pio.renderers.default = \"browser\"\n",
    "from plotly.subplots import make_subplots\n",
    "import dash\n",
    "import dash_html_components as html\n",
    "import dash_core_components as dcc\n",
    "# !pip install nbformat "
   ]
  },
  {
   "cell_type": "code",
   "execution_count": null,
   "metadata": {},
   "outputs": [],
   "source": [
    "def changeRange(feature):\n",
    "    b = feature - min(feature)\n",
    "    return b"
   ]
  },
  {
   "cell_type": "code",
   "execution_count": null,
   "metadata": {},
   "outputs": [],
   "source": [
    "rootfolder = \"HPC-ODA_Dataset_Collection/\"\n",
    "folderName = \"anomaly_injection/\""
   ]
  },
  {
   "cell_type": "code",
   "execution_count": null,
   "metadata": {},
   "outputs": [],
   "source": [
    "df = pd.read_csv(rootfolder + folderName + \"responses/responses.csv\")\n",
    "df.tail()\n",
    "# df['Value'].unique()"
   ]
  },
  {
   "cell_type": "code",
   "execution_count": null,
   "metadata": {},
   "outputs": [],
   "source": [
    "sensorPath = rootfolder + folderName + \"sensors\"\n",
    "onlyfiles = [f for f in listdir(sensorPath) if isfile(join(sensorPath, f))]\n",
    "# print(onlyfiles)"
   ]
  },
  {
   "cell_type": "code",
   "execution_count": null,
   "metadata": {},
   "outputs": [],
   "source": [
    "sensor_df = pd.read_csv(sensorPath + \"\\\\\" + onlyfiles[0])\n",
    "# print(max(sensor_df['Time']))\n",
    "# sensor_df.tail()\n",
    "# sensor_df = sensor_df.iloc[0:10000,:]\n",
    "fig = px.line(sensor_df,x = sensor_df['Time'], y = sensor_df['Value'])\n",
    "# fig.show()"
   ]
  },
  {
   "cell_type": "code",
   "execution_count": null,
   "metadata": {},
   "outputs": [],
   "source": [
    "sensor_df = pd.read_csv(sensorPath + \"\\\\\" + onlyfiles[1])\n",
    "# print(max(sensor_df['Time']))\n",
    "# sensor_df.tail()\n",
    "# sensor_df = sensor_df.iloc[0:10000,:]\n",
    "fig2 = px.line(sensor_df,x = sensor_df['Time'], y = sensor_df['Value'])\n",
    "fig2.show()"
   ]
  },
  {
   "cell_type": "code",
   "execution_count": 61,
   "metadata": {},
   "outputs": [],
   "source": [
    "# figures_to_html([fig,fig2])\n",
    "app = dash.Dash()\n",
    "app.layout = html.Div(id = 'parent', children = [dcc.Graph(id = 'line_plot', figure = fig),\n",
    "                                            dcc.Graph(id = 'line_plot2', figure = fig2)\n",
    "                                            ]\n",
    "                        )"
   ]
  },
  {
   "cell_type": "code",
   "execution_count": 62,
   "metadata": {},
   "outputs": [
    {
     "name": "stdout",
     "output_type": "stream",
     "text": [
      "Dash is running on http://127.0.0.1:8050/\n",
      "\n",
      "Dash is running on http://127.0.0.1:8050/\n",
      "\n",
      "Dash is running on http://127.0.0.1:8050/\n",
      "\n",
      "Dash is running on http://127.0.0.1:8050/\n",
      "\n",
      "Dash is running on http://127.0.0.1:8050/\n",
      "\n",
      "Dash is running on http://127.0.0.1:8050/\n",
      "\n",
      "Dash is running on http://127.0.0.1:8050/\n",
      "\n",
      "Dash is running on http://127.0.0.1:8050/\n",
      "\n",
      "Dash is running on http://127.0.0.1:8050/\n",
      "\n",
      " * Serving Flask app '__main__' (lazy loading)\n",
      " * Environment: production\n",
      "\u001b[31m   WARNING: This is a development server. Do not use it in a production deployment.\u001b[0m\n",
      "\u001b[2m   Use a production WSGI server instead.\u001b[0m\n",
      " * Debug mode: off\n"
     ]
    }
   ],
   "source": [
    "if __name__ == '__main__': \n",
    "    app.run_server()"
   ]
  },
  {
   "cell_type": "code",
   "execution_count": null,
   "metadata": {},
   "outputs": [],
   "source": [
    "# Checking the git"
   ]
  }
 ],
 "metadata": {
  "interpreter": {
   "hash": "5136b3441c1aae334fcabb9e2b984104b6558a7c9b7814e0882a0d0a0c44c5aa"
  },
  "kernelspec": {
   "display_name": "Python 3.9.10 64-bit (windows store)",
   "language": "python",
   "name": "python3"
  },
  "language_info": {
   "codemirror_mode": {
    "name": "ipython",
    "version": 3
   },
   "file_extension": ".py",
   "mimetype": "text/x-python",
   "name": "python",
   "nbconvert_exporter": "python",
   "pygments_lexer": "ipython3",
   "version": "3.9.10"
  },
  "orig_nbformat": 4
 },
 "nbformat": 4,
 "nbformat_minor": 2
}
